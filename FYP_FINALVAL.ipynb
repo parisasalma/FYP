{
 "cells": [
  {
   "cell_type": "code",
   "execution_count": 1,
   "metadata": {
    "collapsed": true
   },
   "outputs": [],
   "source": [
    "from IPython.core.display import HTML"
   ]
  },
  {
   "cell_type": "code",
   "execution_count": 2,
   "metadata": {},
   "outputs": [
    {
     "data": {
      "text/html": [
       "\n",
       "<!DOCTYPE html>\n",
       "<html>\n",
       "    <head>\n",
       "    </head>\n",
       "    <body>\n",
       "        <h1>\n",
       "            My favorite tv show is tv {{ show }}\n",
       "        </h1>\n",
       "    </body>\n",
       "<html>\n"
      ],
      "text/plain": [
       "<IPython.core.display.HTML object>"
      ]
     },
     "execution_count": 2,
     "metadata": {},
     "output_type": "execute_result"
    }
   ],
   "source": [
    "HTML('''\n",
    "<!DOCTYPE html>\n",
    "<html>\n",
    "    <head>\n",
    "    </head>\n",
    "    <body>\n",
    "        <h1>\n",
    "            My favorite tv show is tv {{ show }}\n",
    "        </h1>\n",
    "    </body>\n",
    "<html>\n",
    "''')"
   ]
  },
  {
   "cell_type": "code",
   "execution_count": 3,
   "metadata": {
    "collapsed": true
   },
   "outputs": [],
   "source": [
    "import re\n",
    "from collections import defaultdict\n",
    "import string\n",
    "import pandas as pd"
   ]
  },
  {
   "cell_type": "code",
   "execution_count": 4,
   "metadata": {
    "collapsed": true
   },
   "outputs": [],
   "source": [
    "file = open(\"data/MCTest/mc160.train.txt\", \"r\") \n",
    "obj= (file.read())\n",
    "splitss=(obj.split('***************************************************'))"
   ]
  },
  {
   "cell_type": "code",
   "execution_count": 5,
   "metadata": {
    "collapsed": true
   },
   "outputs": [],
   "source": [
    "df2 = pd.DataFrame(index=range(len(splitss)),\n",
    "                   columns=['id', 'author', 'story'])"
   ]
  },
  {
   "cell_type": "code",
   "execution_count": 6,
   "metadata": {
    "collapsed": true
   },
   "outputs": [],
   "source": [
    "for i in range(1,len(splitss)):\n",
    "  a=(splitss[i].split('\\n')[1].strip())\n",
    "  title=a.replace('Story:','')\n",
    "  title=title.replace(' ','')\n",
    "  df2['id'][i-1]=title\n",
    "\n",
    "  b=(splitss[i].split('\\n')[2].strip())\n",
    "  author=b.replace('Author:','')\n",
    "  author=author.replace(' ','')\n",
    "\n",
    "  df2['author'][i-1]=author\n",
    "  c=(splitss[i].split('\\n')[3].strip())\n",
    "  work_time=c.replace('Work Time(s):','')\n",
    "  work_time=work_time.replace(' ','')\n",
    "\n",
    "  story=(splitss[i].split(':')[3].strip())\n",
    "  story=story.replace(work_time,'')\n",
    "  story=story.replace('1','')\n",
    "  story=story.replace('\\n',' ')\n",
    "  story=story.replace('\\t',' ')\n",
    "  df2['story'][i-1]=story#word_tokenize(remove_punct(story).lower())\n",
    "  #print (story)"
   ]
  },
  {
   "cell_type": "code",
   "execution_count": 7,
   "metadata": {
    "collapsed": true
   },
   "outputs": [],
   "source": [
    "from nltk.corpus import stopwords\n",
    "stoplist = stopwords.words('english')\n",
    "from nltk import word_tokenize, WordNetLemmatizer"
   ]
  },
  {
   "cell_type": "code",
   "execution_count": 8,
   "metadata": {
    "collapsed": true
   },
   "outputs": [],
   "source": [
    "file=open('mfd.txt').read().strip()\n",
    "file=file.split('%')"
   ]
  },
  {
   "cell_type": "code",
   "execution_count": 9,
   "metadata": {
    "collapsed": true
   },
   "outputs": [],
   "source": [
    "########### MFD categories to dict ############# \n",
    "cat=re.sub('\\s+',' ',file[1]).split()\n",
    "i=0\n",
    "mfd_symb=[]\n",
    "mfd=defaultdict(lambda: 'pppppppppppppppppppppppppppp')\n",
    "while i<len(cat):\n",
    "    mfd[cat[i]]=cat[i+1]\n",
    "    mfd_symb.append(cat[i])\n",
    "    i=i+2"
   ]
  },
  {
   "cell_type": "code",
   "execution_count": 10,
   "metadata": {
    "collapsed": true
   },
   "outputs": [],
   "source": [
    "########### MFD vocablary #########\n",
    "mfd_words=defaultdict(lambda:[])\n",
    "words=file[2].split('\\n')\n",
    "for w in words:\n",
    "    if w.strip()!='':\n",
    "        w=re.sub('\\s+',' ',w)\n",
    "        w=w.replace('*','')\n",
    "        w=w.split()\n",
    "        mfd_words[w[0]].extend(w[1:])"
   ]
  },
  {
   "cell_type": "code",
   "execution_count": 11,
   "metadata": {
    "collapsed": true
   },
   "outputs": [],
   "source": [
    "def remove_punct(value):\n",
    "    result=''\n",
    "    for c in value:\n",
    "        if c not in string.punctuation:\n",
    "            result+=c\n",
    "    return result"
   ]
  },
  {
   "cell_type": "code",
   "execution_count": 12,
   "metadata": {
    "collapsed": true
   },
   "outputs": [],
   "source": [
    "def find_story_moral(stry,mfd_words,mfd_symb):\n",
    "    stry=word_tokenize(remove_punct(stry).lower())\n",
    "    story=[]\n",
    "    for t in stry:\n",
    "        t=WordNetLemmatizer().lemmatize(t)\n",
    "        t=WordNetLemmatizer().lemmatize(t, pos='v')\n",
    "        if t not in stoplist:\n",
    "            story.append(t)\n",
    "    moral=defaultdict(lambda:0)\n",
    "    vocab=mfd_words.keys()\n",
    "    for w in story:\n",
    "        if w in vocab:\n",
    "            categ=mfd_words[w]\n",
    "            for c in categ:\n",
    "                moral[c]=moral[c]+1\n",
    "    if (len(moral.keys())>0):\n",
    "        return mfd[max(moral,key=moral.get)]\n",
    "    return 'no moral found'"
   ]
  },
  {
   "cell_type": "code",
   "execution_count": 13,
   "metadata": {
    "collapsed": true
   },
   "outputs": [],
   "source": [
    "from nltk.corpus import stopwords\n",
    "stoplist = stopwords.words('english')\n",
    "from nltk import word_tokenize, WordNetLemmatizer\n",
    "import string\n",
    "import pandas as pd\n",
    "import numpy as np\n",
    "import math\n",
    "import matplotlib.pyplot as plt\n",
    "import scipy.signal"
   ]
  },
  {
   "cell_type": "code",
   "execution_count": 14,
   "metadata": {
    "collapsed": true
   },
   "outputs": [],
   "source": [
    "url = 'http://www.plosone.org/article/fetchSingleRepresentation.action?uri=info:doi/10.1371/journal.pone.0026752.s001'\n",
    "labmt = pd.read_csv(url, skiprows=2, sep='\\t', index_col=0)"
   ]
  },
  {
   "cell_type": "code",
   "execution_count": 15,
   "metadata": {
    "collapsed": true
   },
   "outputs": [],
   "source": [
    "def sample_happiness(sample):\n",
    "  happiness=0\n",
    "  word,freq=np.unique(sample,return_counts=True)\n",
    "  total=np.float(sum(freq))\n",
    "  for w in sample:\n",
    "    hap=labmt.happiness_average.get(w)\n",
    "    if hap:\n",
    "      happiness+=labmt.happiness_average.get(w)*freq[np.where(word == w)][0]/total\n",
    "  return happiness"
   ]
  },
  {
   "cell_type": "code",
   "execution_count": 16,
   "metadata": {},
   "outputs": [
    {
     "name": "stdout",
     "output_type": "stream",
     "text": [
      "('ssssss', 30)\n",
      "30\n",
      "11\n",
      "40\n",
      "141\n",
      "('pppp ', 6)\n",
      "15\n"
     ]
    },
    {
     "data": {
      "image/png": "[encoded data removed]",
      "text/plain": [
       "<matplotlib.figure.Figure at 0xb74f690>"
      ]
     },
     "metadata": {},
     "output_type": "display_data"
    }
   ],
   "source": [
    "stry=df2['story'][2]\n",
    "stop_words = set(stopwords.words('english'))\n",
    "stry=word_tokenize(stry.lower())\n",
    "story=[]\n",
    "for w in stry:\n",
    "  if w not in stop_words:\n",
    "    story.append(remove_punct(w))\n",
    "#print (len(story))\n",
    "#print (story)\n",
    "timeseries_len=10\n",
    "window_size=15\n",
    "text_len=len(story)\n",
    "#print (story[0:16])\n",
    "#for i in story[0:16]:\n",
    "  #print (i)\n",
    "  #print (labmt.happiness_average.get(i))\n",
    "#sample_len=math.ceil((text_len-(window_size+1))/timeseries_len)\n",
    "sample_len=30\n",
    "#sample_len=int(math.ceil((text_len-(window_size+1))/timeseries_len))\n",
    "print ('ssssss',sample_len)\n",
    "sample_overlap=int(math.ceil((text_len-sample_len-1)/timeseries_len))\n",
    "print (sample_len)\n",
    "print (sample_overlap)\n",
    "print (sample_len+timeseries_len)\n",
    "print (text_len)\n",
    "sample_st=0\n",
    "y=[]\n",
    "\n",
    "while (sample_st+sample_len)<=text_len:\n",
    "  sample_st=sample_st+sample_len-sample_overlap\n",
    "  #print (sample_happiness(story[sample_st:sample_st+sample_len]))\n",
    "  y.append(sample_happiness(story[sample_st:sample_st+sample_len]))\n",
    "print ('pppp ',len(y))\n",
    "print (window_size)\n",
    "y_at=scipy.signal.savgol_filter(np.ravel(y), 3, 1)\n",
    "plt.plot(np.arange(0,len(y)),y_at)\n",
    "plt.ylabel('Average Happiness Score')\n",
    "plt.xlabel('Sample')\n",
    "plt.title('Time Line')\n",
    "plt.show()\n"
   ]
  },
  {
   "cell_type": "code",
   "execution_count": 17,
   "metadata": {},
   "outputs": [
    {
     "data": {
      "text/plain": [
       "[<matplotlib.lines.Line2D at 0xb8337d0>]"
      ]
     },
     "execution_count": 17,
     "metadata": {},
     "output_type": "execute_result"
    }
   ],
   "source": [
    "plt.plot(np.arange(0,len(y)),y)"
   ]
  },
  {
   "cell_type": "code",
   "execution_count": null,
   "metadata": {
    "collapsed": true
   },
   "outputs": [],
   "source": []
  },
  {
   "cell_type": "code",
   "execution_count": 19,
   "metadata": {
    "collapsed": true
   },
   "outputs": [],
   "source": [
    "import pandas as pd\n",
    "import numpy as np\n",
    "import bokeh.charts as bc\n",
    "from bokeh.resources import CDN\n",
    "from bokeh.embed import components\n",
    "from matplotlib.pyplot import figure\n",
    "import mpld3"
   ]
  },
  {
   "cell_type": "code",
   "execution_count": 21,
   "metadata": {},
   "outputs": [],
   "source": [
    "import numpy as np\n",
    "import matplotlib.pyplot as plt\n",
    "\n",
    "# some data (512x512)\n",
    "import scipy.misc\n",
    "import matplotlib\n",
    "matplotlib.use('Agg')\n",
    "import matplotlib.pyplot as plt"
   ]
  },
  {
   "cell_type": "code",
   "execution_count": 22,
   "metadata": {
    "collapsed": true
   },
   "outputs": [],
   "source": [
    "import mpld3"
   ]
  },
  {
   "cell_type": "code",
   "execution_count": 29,
   "metadata": {
    "scrolled": false
   },
   "outputs": [
    {
     "name": "stdout",
     "output_type": "stream",
     "text": [
      " * Serving Flask app \"__main__\" (lazy loading)\n",
      " * Environment: production\n",
      "   WARNING: Do not use the development server in a production environment.\n",
      "   Use a production WSGI server instead.\n",
      " * Debug mode: off\n"
     ]
    },
    {
     "name": "stderr",
     "output_type": "stream",
     "text": [
      " * Running on http://127.0.0.1:5000/ (Press CTRL+C to quit)\n",
      "127.0.0.1 - - [06/Dec/2018 13:52:49] \"GET / HTTP/1.1\" 200 -\n",
      "No traceback available to show.\n",
      "127.0.0.1 - - [06/Dec/2018 13:52:51] \"GET /ind2 HTTP/1.1\" 200 -\n",
      "127.0.0.1 - - [06/Dec/2018 13:52:55] \"POST /storydisplay HTTP/1.1\" 200 -\n",
      "127.0.0.1 - - [06/Dec/2018 13:52:57] \"POST /moral HTTP/1.1\" 200 -\n"
     ]
    },
    {
     "name": "stdout",
     "output_type": "stream",
     "text": [
      "i dddddddddddddddddd sssssssssssss\n",
      "('moooooooo ', 1)\n",
      "('nooooooooooooo ', 1)\n",
      "\n",
      "Note: if you're in the IPython notebook, mpld3.show() is not the best command\n",
      "      to use. Consider using mpld3.display(), or mpld3.enable_notebook().\n",
      "      See more information at http://mpld3.github.io/quickstart.html .\n",
      "\n",
      "You must interrupt the kernel to end this command\n",
      "\n",
      "Serving to http://127.0.0.1:8954/    [Ctrl-C to exit]\n"
     ]
    },
    {
     "name": "stderr",
     "output_type": "stream",
     "text": [
      "127.0.0.1 - - [06/Dec/2018 13:52:59] \"GET / HTTP/1.1\" 200 -\n",
      "127.0.0.1 - - [06/Dec/2018 13:52:59] \"GET /d3.js HTTP/1.1\" 200 -\n",
      "127.0.0.1 - - [06/Dec/2018 13:53:00] \"GET /mpld3.js HTTP/1.1\" 200 -\n",
      "127.0.0.1 - - [06/Dec/2018 13:53:00] code 404, message Not Found\n",
      "127.0.0.1 - - [06/Dec/2018 13:53:00] \"GET /favicon.ico HTTP/1.1\" 404 -\n",
      "127.0.0.1 - - [06/Dec/2018 13:53:14] \"POST /storydisplay HTTP/1.1\" 200 -\n",
      "127.0.0.1 - - [06/Dec/2018 13:53:16] \"POST /moral HTTP/1.1\" 200 -\n"
     ]
    },
    {
     "name": "stdout",
     "output_type": "stream",
     "text": [
      "i dddddddddddddddddd sssssssssssss\n",
      "('moooooooo ', 2)\n",
      "('cattttttt ', 'care')\n",
      "('nooooooooooooo ', 2)\n",
      "\n",
      "Note: if you're in the IPython notebook, mpld3.show() is not the best command\n",
      "      to use. Consider using mpld3.display(), or mpld3.enable_notebook().\n",
      "      See more information at http://mpld3.github.io/quickstart.html .\n",
      "\n",
      "You must interrupt the kernel to end this command\n",
      "\n",
      "Serving to http://127.0.0.1:8966/    [Ctrl-C to exit]\n"
     ]
    },
    {
     "name": "stderr",
     "output_type": "stream",
     "text": [
      "127.0.0.1 - - [06/Dec/2018 13:53:18] \"GET / HTTP/1.1\" 200 -\n",
      "127.0.0.1 - - [06/Dec/2018 13:53:18] \"GET /d3.js HTTP/1.1\" 200 -\n",
      "127.0.0.1 - - [06/Dec/2018 13:53:19] \"GET /mpld3.js HTTP/1.1\" 200 -\n",
      "127.0.0.1 - - [06/Dec/2018 13:53:19] code 404, message Not Found\n",
      "127.0.0.1 - - [06/Dec/2018 13:53:19] \"GET /favicon.ico HTTP/1.1\" 404 -\n",
      "127.0.0.1 - - [06/Dec/2018 13:53:29] \"POST /storydisplay HTTP/1.1\" 200 -\n",
      "127.0.0.1 - - [06/Dec/2018 13:53:31] \"POST /moral HTTP/1.1\" 200 -\n"
     ]
    },
    {
     "name": "stdout",
     "output_type": "stream",
     "text": [
      "i dddddddddddddddddd sssssssssssss\n",
      "('moooooooo ', 3)\n",
      "('nooooooooooooo ', 3)\n",
      "\n",
      "Note: if you're in the IPython notebook, mpld3.show() is not the best command\n",
      "      to use. Consider using mpld3.display(), or mpld3.enable_notebook().\n",
      "      See more information at http://mpld3.github.io/quickstart.html .\n",
      "\n",
      "You must interrupt the kernel to end this command\n",
      "\n",
      "Serving to http://127.0.0.1:8979/    [Ctrl-C to exit]\n"
     ]
    },
    {
     "name": "stderr",
     "output_type": "stream",
     "text": [
      "127.0.0.1 - - [06/Dec/2018 13:53:34] \"GET / HTTP/1.1\" 200 -\n",
      "127.0.0.1 - - [06/Dec/2018 13:53:34] \"GET /d3.js HTTP/1.1\" 200 -\n",
      "127.0.0.1 - - [06/Dec/2018 13:53:34] \"GET /mpld3.js HTTP/1.1\" 200 -\n",
      "127.0.0.1 - - [06/Dec/2018 13:53:34] code 404, message Not Found\n",
      "127.0.0.1 - - [06/Dec/2018 13:53:34] \"GET /favicon.ico HTTP/1.1\" 404 -\n"
     ]
    }
   ],
   "source": [
    "from flask import Flask,render_template,request\n",
    "#from io import UnsupportedOperation\n",
    "#import click\n",
    "app = Flask(__name__)\n",
    "num=0\n",
    "@app.route('/')\n",
    "def index():\n",
    "    ########## Iterating Over Stories ###################\n",
    "    tv_show=\"Family Guy\"\n",
    "    return render_template(\"index.html\", show=tv_show)\n",
    "\n",
    "@app.route('/ind2')\n",
    "def ind2():\n",
    "    %tb\n",
    "    f=[]\n",
    "    for ind in range(1,len(df2)):\n",
    "        f.append(ind)\n",
    "    #print (f)\n",
    "    return render_template(\"ind2.html\",f=f)\n",
    "@app.route('/storydisplay',methods = ['POST', 'GET'])\n",
    "def story_display():\n",
    "    #if request.method == 'POST':\n",
    "    no=int(request.form['delete'])\n",
    "    num=no\n",
    "    #print ('ppppppppppp',request.form['delete'])\n",
    "    story=df2['story'][no-1]\n",
    "    morall= (find_story_moral(story,mfd_words,mfd_symb))\n",
    "    return render_template(\"story_display.html\",no=no-1,story=story,moral=morall)\n",
    "@app.route('/moral', methods = ['POST' , 'GET'])\n",
    "def moral():\n",
    "    print (\"i dddddddddddddddddd sssssssssssss\")\n",
    "    no=int(request.form['delete'])\n",
    "    num=no\n",
    "    print ('moooooooo ',no)\n",
    "    story=df2['story'][no]\n",
    "    st=word_tokenize(remove_punct(story).lower())\n",
    "    #print ('ppppppppppp',request.form['delete'])\n",
    "    vocab=mfd_words.keys()\n",
    "    catt=[]\n",
    "    for w in st:\n",
    "        if w in vocab:\n",
    "            categ=mfd_words[w]\n",
    "            print('cattttttt ',w)\n",
    "            catt.append(w)\n",
    "    morall= (find_story_moral(story,mfd_words,mfd_symb))\n",
    "    return render_template(\"moral.html\",no=no,story=story,moral=morall,st=st,catt=catt)\n",
    "    #return render_template(\"moral.html\",no=num)\n",
    "@app.route('/graph', methods = ['POST' , 'GET'])\n",
    "def graph():\n",
    "    # Build the dataframe\n",
    "    plt.close(\"all\")\n",
    "    no=int(request.form['delete'])\n",
    "    print ('nooooooooooooo ',no)\n",
    "    num=no\n",
    "    stry=df2['story'][no]\n",
    "    stop_words = set(stopwords.words('english'))\n",
    "    stry=word_tokenize(stry.lower())\n",
    "    story=[]\n",
    "    for w in stry:\n",
    "      if w not in stop_words:\n",
    "        story.append(remove_punct(w))\n",
    "    #print (len(story))\n",
    "    #print (story)\n",
    "    timeseries_len=10\n",
    "    window_size=15\n",
    "    text_len=len(story)\n",
    "    sample_len=30\n",
    "    sample_overlap=int(math.ceil((text_len-sample_len-1)/timeseries_len))\n",
    "    sample_st=0\n",
    "    y=[]\n",
    "    \n",
    "    while (sample_st+sample_len)<=text_len:\n",
    "      sample_st=sample_st+sample_len-sample_overlap\n",
    "      #print (sample_happiness(story[sample_st:sample_st+sample_len]))\n",
    "      y.append(sample_happiness(story[sample_st:sample_st+sample_len]))\n",
    "    #print ('pppp ',len(y))\n",
    "    #print (window_size)\n",
    "    #y_at=scipy.signal.savgol_filter(np.ravel(y), 3, 1)\n",
    "    plt.plot(np.arange(0,len(y)),y)\n",
    "    plt.ylabel('Average Happiness Score')\n",
    "    plt.xlabel('Sample')\n",
    "    plt.title('Time Line')\n",
    "    #plt.show()\n",
    "    \n",
    "    #plt.plot([1,2,3])\n",
    "    plt.savefig('myfig')\n",
    "    \n",
    "    ##### correct #####333\n",
    "    #plugins.connect(fig, plugins.MousePosition(fontsize=14))\n",
    "    mpld3.show()\n",
    "    #plt.close()\n",
    "    #fig = plt.show()\n",
    "    \n",
    "    #plt.savefig('book.png')\n",
    "    #pylab.savefig('foo.png')\n",
    "    #savefig('foo.png')\n",
    "    #mpld3.show(fig)\n",
    "    #mpld3.show('myfig')\n",
    "    \n",
    "    '''    print (\"i dddddddddddddddddd sssssssssssss graphhhhhhhhhhhhhhhhh\")\n",
    "        fig.savefig('my_plot.png')\n",
    "    '''    \n",
    "    #morall= (find_story_moral(story,mfd_words,mfd_symb))\n",
    "    return render_template(\"graph.html\",p=plt)\n",
    "\n",
    "@app.route('/tuna')\n",
    "def tuna():\n",
    "    tv_show=[]\n",
    "    c=0\n",
    "    for i in range(len(df2)):\n",
    "        #print('story',i)\n",
    "        stry=df2['story'][i]\n",
    "        print(df2['story'][i])\n",
    "        morall= (find_story_moral(stry,mfd_words,mfd_symb))\n",
    "        if (morall=='no moral found'):\n",
    "            c+=1\n",
    "        tv_show[i]=morall\n",
    "    return '<h2> Tunaaa is </h2>'\n",
    "\n",
    "\n",
    "if __name__ == \"__main__\":\n",
    "    app.run()\n",
    "    #app.run(host='127.0.0.1',port=80,debug=False)"
   ]
  },
  {
   "cell_type": "code",
   "execution_count": null,
   "metadata": {
    "collapsed": true
   },
   "outputs": [],
   "source": [
    "\n",
    "    df = pd.DataFrame({\n",
    "    'x': 2*np.pi*i/100,\n",
    "    'sin': np.sin(2*np.pi*i/100),\n",
    "    'cos': np.cos(2*np.pi*i/100),\n",
    "    } for i in range(0,101))\n",
    "    \n",
    "    # Create the plot\n",
    "    plot = bc.Line(title='Triganometric fun!',\n",
    "    data=df, x='x', ylabel='y')\n",
    "\n",
    "    # Generate the script and HTML for the plot\n",
    "    script, div = components(plot)\n",
    "\n",
    "    # Return the webpage\n",
    "    return \"\"\"\n",
    "    <!doctype html>\n",
    "    <head>\n",
    "    <title>My wonderful trigonometric webpage</title>\n",
    "    {bokeh_css}\n",
    "    </head>\n",
    "    <body>\n",
    "    <h1>Everyone loves trig!\n",
    "    {div}\n",
    "\n",
    "    {bokeh_js}\n",
    "    {script}\n",
    "    </body>\n",
    "    \"\"\".format(script=script, div=div, bokeh_css=CDN.render_css(),\n",
    "    bokeh_js=CDN.render_js())\n"
   ]
  }
 ],
 "metadata": {
  "kernelspec": {
   "display_name": "Python 2",
   "language": "python",
   "name": "python2"
  },
  "language_info": {
   "codemirror_mode": {
    "name": "ipython",
    "version": 2
   },
   "file_extension": ".py",
   "mimetype": "text/x-python",
   "name": "python",
   "nbconvert_exporter": "python",
   "pygments_lexer": "ipython2",
   "version": "2.7.13"
  }
 },
 "nbformat": 4,
 "nbformat_minor": 2
}
